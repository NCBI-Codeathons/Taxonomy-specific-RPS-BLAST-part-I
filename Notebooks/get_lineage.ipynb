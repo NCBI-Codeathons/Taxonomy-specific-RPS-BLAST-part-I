{
 "cells": [
  {
   "cell_type": "code",
   "execution_count": 3,
   "metadata": {},
   "outputs": [
    {
     "name": "stdout",
     "output_type": "stream",
     "text": [
      "/Users/marc/Code_a_thon_10_16_2019\n"
     ]
    }
   ],
   "source": [
    "cd Code_a_thon_10_16_2019/"
   ]
  },
  {
   "cell_type": "code",
   "execution_count": 73,
   "metadata": {},
   "outputs": [
    {
     "name": "stdout",
     "output_type": "stream",
     "text": [
      "\u001b[31mcdart_queries.sql\u001b[m\u001b[m*\r\n",
      "\u001b[34mnew_taxdump\u001b[m\u001b[m/\r\n",
      "\u001b[31mpigs_gis_all_taxid_by_CDD_accession.txt\u001b[m\u001b[m*\r\n",
      "\u001b[31mpigs_gis_per_taxid_by_CDD_accession.txt\u001b[m\u001b[m*\r\n",
      "taxidlineage.dmp\r\n"
     ]
    }
   ],
   "source": [
    "ls"
   ]
  },
  {
   "cell_type": "code",
   "execution_count": 6,
   "metadata": {},
   "outputs": [],
   "source": [
    "taxid2PIG_file = 'pigs_gis_per_taxid_by_CDD_accession.txt'"
   ]
  },
  {
   "cell_type": "code",
   "execution_count": 7,
   "metadata": {},
   "outputs": [],
   "source": [
    "import pandas as pd"
   ]
  },
  {
   "cell_type": "code",
   "execution_count": 12,
   "metadata": {},
   "outputs": [
    {
     "data": {
      "text/html": [
       "<div>\n",
       "<style>\n",
       "    .dataframe thead tr:only-child th {\n",
       "        text-align: right;\n",
       "    }\n",
       "\n",
       "    .dataframe thead th {\n",
       "        text-align: left;\n",
       "    }\n",
       "\n",
       "    .dataframe tbody tr th {\n",
       "        vertical-align: top;\n",
       "    }\n",
       "</style>\n",
       "<table border=\"1\" class=\"dataframe\">\n",
       "  <thead>\n",
       "    <tr style=\"text-align: right;\">\n",
       "      <th></th>\n",
       "      <th>domgi</th>\n",
       "      <th>accession</th>\n",
       "      <th>taxid</th>\n",
       "      <th>taxOrg</th>\n",
       "      <th>nPig</th>\n",
       "      <th>nGi</th>\n",
       "    </tr>\n",
       "  </thead>\n",
       "  <tbody>\n",
       "    <tr>\n",
       "      <th>0</th>\n",
       "      <td>129695</td>\n",
       "      <td>TIGR00607</td>\n",
       "      <td>5580</td>\n",
       "      <td>Aureobasidium pullulans</td>\n",
       "      <td>26</td>\n",
       "      <td>50</td>\n",
       "    </tr>\n",
       "    <tr>\n",
       "      <th>1</th>\n",
       "      <td>129695</td>\n",
       "      <td>TIGR00607</td>\n",
       "      <td>9606</td>\n",
       "      <td>Homo sapiens</td>\n",
       "      <td>22</td>\n",
       "      <td>127</td>\n",
       "    </tr>\n",
       "    <tr>\n",
       "      <th>2</th>\n",
       "      <td>129695</td>\n",
       "      <td>TIGR00607</td>\n",
       "      <td>1708541</td>\n",
       "      <td>Wallemia mellicola</td>\n",
       "      <td>18</td>\n",
       "      <td>25</td>\n",
       "    </tr>\n",
       "    <tr>\n",
       "      <th>3</th>\n",
       "      <td>129695</td>\n",
       "      <td>TIGR00607</td>\n",
       "      <td>10090</td>\n",
       "      <td>Mus musculus</td>\n",
       "      <td>16</td>\n",
       "      <td>21</td>\n",
       "    </tr>\n",
       "    <tr>\n",
       "      <th>4</th>\n",
       "      <td>129695</td>\n",
       "      <td>TIGR00607</td>\n",
       "      <td>91943</td>\n",
       "      <td>Hortaea werneckii</td>\n",
       "      <td>15</td>\n",
       "      <td>18</td>\n",
       "    </tr>\n",
       "  </tbody>\n",
       "</table>\n",
       "</div>"
      ],
      "text/plain": [
       "    domgi  accession    taxid                   taxOrg  nPig  nGi\n",
       "0  129695  TIGR00607     5580  Aureobasidium pullulans    26   50\n",
       "1  129695  TIGR00607     9606             Homo sapiens    22  127\n",
       "2  129695  TIGR00607  1708541       Wallemia mellicola    18   25\n",
       "3  129695  TIGR00607    10090             Mus musculus    16   21\n",
       "4  129695  TIGR00607    91943        Hortaea werneckii    15   18"
      ]
     },
     "execution_count": 12,
     "metadata": {},
     "output_type": "execute_result"
    }
   ],
   "source": [
    "pd.read_csv(taxid2PIG_file, sep='\\t').head()"
   ]
  },
  {
   "cell_type": "code",
   "execution_count": 18,
   "metadata": {},
   "outputs": [],
   "source": [
    "lineages= pd.read_csv('taxidlineage.dmp', sep='\\t')"
   ]
  },
  {
   "cell_type": "code",
   "execution_count": 20,
   "metadata": {},
   "outputs": [
    {
     "data": {
      "text/html": [
       "<div>\n",
       "<style>\n",
       "    .dataframe thead tr:only-child th {\n",
       "        text-align: right;\n",
       "    }\n",
       "\n",
       "    .dataframe thead th {\n",
       "        text-align: left;\n",
       "    }\n",
       "\n",
       "    .dataframe tbody tr th {\n",
       "        vertical-align: top;\n",
       "    }\n",
       "</style>\n",
       "<table border=\"1\" class=\"dataframe\">\n",
       "  <thead>\n",
       "    <tr style=\"text-align: right;\">\n",
       "      <th></th>\n",
       "      <th>1</th>\n",
       "      <th>|</th>\n",
       "      <th>Unnamed: 2</th>\n",
       "      <th>|.1</th>\n",
       "    </tr>\n",
       "  </thead>\n",
       "  <tbody>\n",
       "    <tr>\n",
       "      <th>0</th>\n",
       "      <td>131567</td>\n",
       "      <td>|</td>\n",
       "      <td>NaN</td>\n",
       "      <td>|</td>\n",
       "    </tr>\n",
       "    <tr>\n",
       "      <th>1</th>\n",
       "      <td>2157</td>\n",
       "      <td>|</td>\n",
       "      <td>131567</td>\n",
       "      <td>|</td>\n",
       "    </tr>\n",
       "    <tr>\n",
       "      <th>2</th>\n",
       "      <td>1935183</td>\n",
       "      <td>|</td>\n",
       "      <td>131567 2157</td>\n",
       "      <td>|</td>\n",
       "    </tr>\n",
       "    <tr>\n",
       "      <th>3</th>\n",
       "      <td>1936272</td>\n",
       "      <td>|</td>\n",
       "      <td>131567 2157 1935183</td>\n",
       "      <td>|</td>\n",
       "    </tr>\n",
       "    <tr>\n",
       "      <th>4</th>\n",
       "      <td>2026747</td>\n",
       "      <td>|</td>\n",
       "      <td>131567 2157 1935183 1936272</td>\n",
       "      <td>|</td>\n",
       "    </tr>\n",
       "  </tbody>\n",
       "</table>\n",
       "</div>"
      ],
      "text/plain": [
       "         1  |                    Unnamed: 2 |.1\n",
       "0   131567  |                           NaN   |\n",
       "1     2157  |                       131567    |\n",
       "2  1935183  |                  131567 2157    |\n",
       "3  1936272  |          131567 2157 1935183    |\n",
       "4  2026747  |  131567 2157 1935183 1936272    |"
      ]
     },
     "execution_count": 20,
     "metadata": {},
     "output_type": "execute_result"
    }
   ],
   "source": [
    "lineages.head()"
   ]
  },
  {
   "cell_type": "code",
   "execution_count": 83,
   "metadata": {},
   "outputs": [],
   "source": [
    "#Dictionary of tax to all parent nodes\n",
    "\n",
    "lineage_file = 'taxidlineage.dmp'\n",
    "lin_dict = {}\n",
    "lin_dict['taxid'] = 00000\n",
    "\n",
    "with open(lineage_file, 'r') as fh:\n",
    "    for line in fh:\n",
    "        lst=line.split('|')\n",
    "        lin_dict[lst[0].strip('\\t')]= lst[1].strip('\\t').strip()"
   ]
  },
  {
   "cell_type": "code",
   "execution_count": 84,
   "metadata": {},
   "outputs": [
    {
     "data": {
      "text/plain": [
       "'131567 2157'"
      ]
     },
     "execution_count": 84,
     "metadata": {},
     "output_type": "execute_result"
    }
   ],
   "source": [
    "lin_dict['1935183']"
   ]
  },
  {
   "cell_type": "code",
   "execution_count": 74,
   "metadata": {},
   "outputs": [],
   "source": [
    "taxid2PIG_file = 'pigs_gis_per_taxid_by_CDD_accession.txt'"
   ]
  },
  {
   "cell_type": "code",
   "execution_count": 85,
   "metadata": {},
   "outputs": [],
   "source": [
    "tax2PIG= '200311.txt'"
   ]
  },
  {
   "cell_type": "code",
   "execution_count": 122,
   "metadata": {},
   "outputs": [],
   "source": [
    "def get_lineage(domgi):   \n",
    "    #input: domgi\taccession\ttaxid\ttaxOrg\tnPig\tnGi\n",
    "    #200311\tTIGR03687\t1883\tStreptomyces\t131\t605\n",
    "    #output:\n",
    "    #(taxid, nPIG/weight, lineage)\n",
    "    lin_lst = []\n",
    "\n",
    "    with open(tax2PIG, 'r') as fh:\n",
    "        for line in fh:\n",
    "            tmp = line.split('\\t')\n",
    "            try:\n",
    "                lin_lst.append((tmp[2], tmp[4], lin_dict[tmp[2]].split()))\n",
    "            except:\n",
    "                #if taxid not in dictionary, skip\n",
    "                pass\n",
    "            \n",
    "    return lin_lst"
   ]
  },
  {
   "cell_type": "code",
   "execution_count": 123,
   "metadata": {},
   "outputs": [],
   "source": [
    "lin_200311 = get_lineage('200311')"
   ]
  },
  {
   "cell_type": "code",
   "execution_count": 124,
   "metadata": {},
   "outputs": [
    {
     "data": {
      "text/plain": [
       "[('1883',\n",
       "  '131',\n",
       "  ['131567', '2', '1783272', '201174', '1760', '85011', '2062']),\n",
       " ('1883427',\n",
       "  '41',\n",
       "  ['131567', '2', '1783272', '201174', '1760', '52018', '78537']),\n",
       " ('1762', '28', ['131567', '2', '1783272', '201174', '1760', '85007']),\n",
       " ('2053607', '28', ['131567', '2', '2323', '1783234', '1752708']),\n",
       " ('1763', '26', ['131567', '2', '1783272', '201174', '1760', '85007', '1762']),\n",
       " ('1773',\n",
       "  '24',\n",
       "  ['131567',\n",
       "   '2',\n",
       "   '1783272',\n",
       "   '201174',\n",
       "   '1760',\n",
       "   '85007',\n",
       "   '1762',\n",
       "   '1763',\n",
       "   '77643']),\n",
       " ('1716', '23', ['131567', '2', '1783272', '201174', '1760', '85007', '1653']),\n",
       " ('1663', '20', ['131567', '2', '1783272', '201174', '1760', '85006', '1268']),\n",
       " ('1827',\n",
       "  '18',\n",
       "  ['131567', '2', '1783272', '201174', '1760', '85007', '85025']),\n",
       " ('216816',\n",
       "  '16',\n",
       "  ['131567', '2', '1783272', '201174', '1760', '85004', '31953', '1678'])]"
      ]
     },
     "execution_count": 124,
     "metadata": {},
     "output_type": "execute_result"
    }
   ],
   "source": [
    "lin_200311[:10]"
   ]
  },
  {
   "cell_type": "code",
   "execution_count": null,
   "metadata": {},
   "outputs": [],
   "source": []
  },
  {
   "cell_type": "code",
   "execution_count": null,
   "metadata": {},
   "outputs": [],
   "source": []
  },
  {
   "cell_type": "code",
   "execution_count": null,
   "metadata": {},
   "outputs": [],
   "source": []
  },
  {
   "cell_type": "code",
   "execution_count": null,
   "metadata": {},
   "outputs": [],
   "source": []
  }
 ],
 "metadata": {
  "kernelspec": {
   "display_name": "Python 3",
   "language": "python",
   "name": "python3"
  },
  "language_info": {
   "codemirror_mode": {
    "name": "ipython",
    "version": 3
   },
   "file_extension": ".py",
   "mimetype": "text/x-python",
   "name": "python",
   "nbconvert_exporter": "python",
   "pygments_lexer": "ipython3",
   "version": "3.6.3"
  }
 },
 "nbformat": 4,
 "nbformat_minor": 2
}
